{
 "cells": [
  {
   "cell_type": "code",
   "execution_count": 1,
   "id": "77719c91-2909-4625-94eb-093e16acf5f1",
   "metadata": {},
   "outputs": [],
   "source": [
    "import pyspark"
   ]
  },
  {
   "cell_type": "code",
   "execution_count": 2,
   "id": "aa3f9231-9aef-49b9-b302-e293622e6ed7",
   "metadata": {},
   "outputs": [],
   "source": [
    "from pyspark.sql import SparkSession\n",
    "import pyspark.sql.functions as F\n",
    "import pyspark.sql.types as T"
   ]
  },
  {
   "cell_type": "code",
   "execution_count": 3,
   "id": "75ff84b0-d83b-49e9-99fd-ce1b6663d567",
   "metadata": {},
   "outputs": [],
   "source": [
    "spark = (\n",
    "    SparkSession.builder.master(\"local[1]\")\n",
    "    .appName(\"Tutorial App\")\n",
    "    .config(\"spark.jars.packages\", \"org.apache.spark:spark-sql-kafka-0-10_2.12:3.3.1\")\n",
    "    .getOrCreate()\n",
    ")"
   ]
  },
  {
   "cell_type": "markdown",
   "id": "bb52c839-99db-469f-a044-941971425e7e",
   "metadata": {},
   "source": [
    "# Spark UI"
   ]
  },
  {
   "cell_type": "code",
   "execution_count": 4,
   "id": "6021b65f-3c02-4f9f-ba25-1f3269e07cc7",
   "metadata": {},
   "outputs": [
    {
     "data": {
      "text/html": [
       "\n",
       "            <div>\n",
       "                <p><b>SparkSession - in-memory</b></p>\n",
       "                \n",
       "        <div>\n",
       "            <p><b>SparkContext</b></p>\n",
       "\n",
       "            <p><a href=\"http://192.168.0.246:4040\">Spark UI</a></p>\n",
       "\n",
       "            <dl>\n",
       "              <dt>Version</dt>\n",
       "                <dd><code>v3.3.1</code></dd>\n",
       "              <dt>Master</dt>\n",
       "                <dd><code>local[1]</code></dd>\n",
       "              <dt>AppName</dt>\n",
       "                <dd><code>Tutorial App</code></dd>\n",
       "            </dl>\n",
       "        </div>\n",
       "        \n",
       "            </div>\n",
       "        "
      ],
      "text/plain": [
       "<pyspark.sql.session.SparkSession at 0x7f58cb75ec80>"
      ]
     },
     "execution_count": 4,
     "metadata": {},
     "output_type": "execute_result"
    }
   ],
   "source": [
    "spark"
   ]
  },
  {
   "cell_type": "markdown",
   "id": "c5bcf8e0-71df-48aa-b367-f3b333e6293b",
   "metadata": {},
   "source": [
    "# Reading Data from Kafka"
   ]
  },
  {
   "cell_type": "markdown",
   "id": "11e4c880-2d5d-4da5-9bbf-278cced7093f",
   "metadata": {},
   "source": [
    "<font color='blue' size=\"5\" >Creating all Schemas</font>"
   ]
  },
  {
   "cell_type": "code",
   "execution_count": 5,
   "id": "32932b1a-d001-4d78-977b-0431747c65de",
   "metadata": {},
   "outputs": [],
   "source": [
    "moisturemate_schema = (\n",
    "    T.StructType()\n",
    "    .add(\"timestamp\", T.StringType())\n",
    "    .add(\"room_id\", T.StringType())\n",
    "    .add(\"humidity\", T.FloatType())\n",
    "    .add(\"humidity_ratio\", T.FloatType()))\n",
    "\n",
    "carbonsense_schema = (\n",
    "    T.StructType()\n",
    "    .add(\"timestamp\", T.StringType())\n",
    "    .add(\"room_id\", T.StringType())\n",
    "    .add(\"co2\", T.FloatType()))\n",
    "\n",
    "luxmeter_schema = (\n",
    "    T.StructType()\n",
    "    .add(\"timestamp\", T.StringType())\n",
    "    .add(\"light_level\", T.FloatType())\n",
    "    .add(\"room_id\", T.StringType()))\n",
    "\n",
    "smartthermo_schema = (\n",
    "    T.StructType()\n",
    "    .add(\"timestamp\", T.StringType())\n",
    "    .add(\"room_id\", T.StringType())\n",
    "    .add(\"temperature\", T.FloatType()))"
   ]
  },
  {
   "cell_type": "markdown",
   "id": "b4fd069f-0312-49b0-9738-1e82f9e31368",
   "metadata": {},
   "source": [
    "<font color='blue' size=\"5\" >Moisturemate Data</font>"
   ]
  },
  {
   "cell_type": "code",
   "execution_count": 6,
   "id": "584ce208-bf02-441d-afc2-bc0f1c33c5d4",
   "metadata": {},
   "outputs": [
    {
     "name": "stdout",
     "output_type": "stream",
     "text": [
      "root\n",
      " |-- key: binary (nullable = true)\n",
      " |-- value: binary (nullable = true)\n",
      " |-- topic: string (nullable = true)\n",
      " |-- partition: integer (nullable = true)\n",
      " |-- offset: long (nullable = true)\n",
      " |-- timestamp: timestamp (nullable = true)\n",
      " |-- timestampType: integer (nullable = true)\n",
      "\n"
     ]
    }
   ],
   "source": [
    "df_moisturemate = spark \\\n",
    "  .read \\\n",
    "  .format(\"kafka\") \\\n",
    "  .option(\"kafka.bootstrap.servers\", \"localhost:9092\") \\\n",
    "  .option(\"subscribe\", \"moisturemate\") \\\n",
    "  .option(\"failOnDataLoss\", \"true\") \\\n",
    "  .load()\n",
    "# df.selectExpr(\"CAST(key AS STRING)\", \"CAST(value AS STRING)\").select(\"value\").toPandas()\n",
    "df_moisturemate.printSchema()"
   ]
  },
  {
   "cell_type": "code",
   "execution_count": 7,
   "id": "72a36209-16f6-4619-bf01-5c6357c3fb49",
   "metadata": {},
   "outputs": [
    {
     "data": {
      "text/html": [
       "<div>\n",
       "<style scoped>\n",
       "    .dataframe tbody tr th:only-of-type {\n",
       "        vertical-align: middle;\n",
       "    }\n",
       "\n",
       "    .dataframe tbody tr th {\n",
       "        vertical-align: top;\n",
       "    }\n",
       "\n",
       "    .dataframe thead th {\n",
       "        text-align: right;\n",
       "    }\n",
       "</style>\n",
       "<table border=\"1\" class=\"dataframe\">\n",
       "  <thead>\n",
       "    <tr style=\"text-align: right;\">\n",
       "      <th></th>\n",
       "      <th>timestamp</th>\n",
       "      <th>room_id</th>\n",
       "      <th>humidity</th>\n",
       "      <th>humidity_ratio</th>\n",
       "    </tr>\n",
       "  </thead>\n",
       "  <tbody>\n",
       "    <tr>\n",
       "      <th>0</th>\n",
       "      <td>2023-02-10T10:51:00</td>\n",
       "      <td>kitchen</td>\n",
       "      <td>31.356667</td>\n",
       "      <td>0.005039</td>\n",
       "    </tr>\n",
       "    <tr>\n",
       "      <th>1</th>\n",
       "      <td>2023-02-10T10:51:00</td>\n",
       "      <td>bedroom</td>\n",
       "      <td>26.700001</td>\n",
       "      <td>0.003690</td>\n",
       "    </tr>\n",
       "    <tr>\n",
       "      <th>2</th>\n",
       "      <td>2023-02-10T10:51:00</td>\n",
       "      <td>bathroom</td>\n",
       "      <td>26.340000</td>\n",
       "      <td>0.003640</td>\n",
       "    </tr>\n",
       "    <tr>\n",
       "      <th>3</th>\n",
       "      <td>2023-02-10T10:51:00</td>\n",
       "      <td>living_room</td>\n",
       "      <td>24.100000</td>\n",
       "      <td>0.004466</td>\n",
       "    </tr>\n",
       "    <tr>\n",
       "      <th>4</th>\n",
       "      <td>2023-02-10T10:52:00</td>\n",
       "      <td>kitchen</td>\n",
       "      <td>23.917500</td>\n",
       "      <td>0.003913</td>\n",
       "    </tr>\n",
       "    <tr>\n",
       "      <th>5</th>\n",
       "      <td>2023-02-10T10:52:00</td>\n",
       "      <td>bedroom</td>\n",
       "      <td>32.290001</td>\n",
       "      <td>0.004785</td>\n",
       "    </tr>\n",
       "    <tr>\n",
       "      <th>6</th>\n",
       "      <td>2023-02-10T10:52:00</td>\n",
       "      <td>bathroom</td>\n",
       "      <td>32.500000</td>\n",
       "      <td>0.004865</td>\n",
       "    </tr>\n",
       "    <tr>\n",
       "      <th>7</th>\n",
       "      <td>2023-02-10T10:52:00</td>\n",
       "      <td>living_room</td>\n",
       "      <td>30.389999</td>\n",
       "      <td>0.004449</td>\n",
       "    </tr>\n",
       "  </tbody>\n",
       "</table>\n",
       "</div>"
      ],
      "text/plain": [
       "             timestamp      room_id   humidity  humidity_ratio\n",
       "0  2023-02-10T10:51:00      kitchen  31.356667        0.005039\n",
       "1  2023-02-10T10:51:00      bedroom  26.700001        0.003690\n",
       "2  2023-02-10T10:51:00     bathroom  26.340000        0.003640\n",
       "3  2023-02-10T10:51:00  living_room  24.100000        0.004466\n",
       "4  2023-02-10T10:52:00      kitchen  23.917500        0.003913\n",
       "5  2023-02-10T10:52:00      bedroom  32.290001        0.004785\n",
       "6  2023-02-10T10:52:00     bathroom  32.500000        0.004865\n",
       "7  2023-02-10T10:52:00  living_room  30.389999        0.004449"
      ]
     },
     "execution_count": 7,
     "metadata": {},
     "output_type": "execute_result"
    }
   ],
   "source": [
    "df_moisturemate= df_moisturemate.withColumn(\"message_content\", F.from_json(F.col(\"value\").cast(\"string\"),moisturemate_schema ))\n",
    "df_moisturemate_minimal = df_moisturemate.select(\"message_content.*\")\n",
    "df_moisturemate_minimal.toPandas()"
   ]
  },
  {
   "cell_type": "markdown",
   "id": "45ab757c-8fd1-444e-a711-4f2ccb6a2e6b",
   "metadata": {},
   "source": [
    "<font color='blue' size=\"5\" >Carbonsense Data</font>"
   ]
  },
  {
   "cell_type": "code",
   "execution_count": 8,
   "id": "bb13faaf-a072-43a3-a8cc-ed9214c5c8a6",
   "metadata": {},
   "outputs": [
    {
     "name": "stdout",
     "output_type": "stream",
     "text": [
      "root\n",
      " |-- key: binary (nullable = true)\n",
      " |-- value: binary (nullable = true)\n",
      " |-- topic: string (nullable = true)\n",
      " |-- partition: integer (nullable = true)\n",
      " |-- offset: long (nullable = true)\n",
      " |-- timestamp: timestamp (nullable = true)\n",
      " |-- timestampType: integer (nullable = true)\n",
      "\n"
     ]
    }
   ],
   "source": [
    "df_carbonsense = spark \\\n",
    "  .read \\\n",
    "  .format(\"kafka\") \\\n",
    "  .option(\"kafka.bootstrap.servers\", \"localhost:9092\") \\\n",
    "  .option(\"subscribe\", \"carbonsense\") \\\n",
    "  .option(\"failOnDataLoss\", \"true\") \\\n",
    "  .load()\n",
    "# df.selectExpr(\"CAST(key AS STRING)\", \"CAST(value AS STRING)\").select(\"value\").toPandas()\n",
    "df_carbonsense.printSchema()"
   ]
  },
  {
   "cell_type": "code",
   "execution_count": 9,
   "id": "a1d732dc-b491-413b-a098-6085d4bf6efe",
   "metadata": {},
   "outputs": [
    {
     "data": {
      "text/html": [
       "<div>\n",
       "<style scoped>\n",
       "    .dataframe tbody tr th:only-of-type {\n",
       "        vertical-align: middle;\n",
       "    }\n",
       "\n",
       "    .dataframe tbody tr th {\n",
       "        vertical-align: top;\n",
       "    }\n",
       "\n",
       "    .dataframe thead th {\n",
       "        text-align: right;\n",
       "    }\n",
       "</style>\n",
       "<table border=\"1\" class=\"dataframe\">\n",
       "  <thead>\n",
       "    <tr style=\"text-align: right;\">\n",
       "      <th></th>\n",
       "      <th>timestamp</th>\n",
       "      <th>room_id</th>\n",
       "      <th>co2</th>\n",
       "    </tr>\n",
       "  </thead>\n",
       "  <tbody>\n",
       "    <tr>\n",
       "      <th>0</th>\n",
       "      <td>2023-02-10T10:51:00</td>\n",
       "      <td>kitchen</td>\n",
       "      <td>617.333313</td>\n",
       "    </tr>\n",
       "    <tr>\n",
       "      <th>1</th>\n",
       "      <td>2023-02-10T10:51:00</td>\n",
       "      <td>bedroom</td>\n",
       "      <td>466.500000</td>\n",
       "    </tr>\n",
       "    <tr>\n",
       "      <th>2</th>\n",
       "      <td>2023-02-10T10:51:00</td>\n",
       "      <td>bathroom</td>\n",
       "      <td>465.500000</td>\n",
       "    </tr>\n",
       "    <tr>\n",
       "      <th>3</th>\n",
       "      <td>2023-02-10T10:51:00</td>\n",
       "      <td>living_room</td>\n",
       "      <td>685.000000</td>\n",
       "    </tr>\n",
       "    <tr>\n",
       "      <th>4</th>\n",
       "      <td>2023-02-10T10:52:00</td>\n",
       "      <td>kitchen</td>\n",
       "      <td>847.000000</td>\n",
       "    </tr>\n",
       "    <tr>\n",
       "      <th>5</th>\n",
       "      <td>2023-02-10T10:52:00</td>\n",
       "      <td>bedroom</td>\n",
       "      <td>679.000000</td>\n",
       "    </tr>\n",
       "    <tr>\n",
       "      <th>6</th>\n",
       "      <td>2023-02-10T10:52:00</td>\n",
       "      <td>bathroom</td>\n",
       "      <td>671.000000</td>\n",
       "    </tr>\n",
       "    <tr>\n",
       "      <th>7</th>\n",
       "      <td>2023-02-10T10:52:00</td>\n",
       "      <td>living_room</td>\n",
       "      <td>718.333313</td>\n",
       "    </tr>\n",
       "    <tr>\n",
       "      <th>8</th>\n",
       "      <td>2023-02-10T10:53:00</td>\n",
       "      <td>kitchen</td>\n",
       "      <td>1053.000000</td>\n",
       "    </tr>\n",
       "    <tr>\n",
       "      <th>9</th>\n",
       "      <td>2023-02-10T10:53:00</td>\n",
       "      <td>bedroom</td>\n",
       "      <td>511.500000</td>\n",
       "    </tr>\n",
       "    <tr>\n",
       "      <th>10</th>\n",
       "      <td>2023-02-10T10:53:00</td>\n",
       "      <td>bathroom</td>\n",
       "      <td>506.500000</td>\n",
       "    </tr>\n",
       "    <tr>\n",
       "      <th>11</th>\n",
       "      <td>2023-02-10T10:53:00</td>\n",
       "      <td>living_room</td>\n",
       "      <td>474.000000</td>\n",
       "    </tr>\n",
       "  </tbody>\n",
       "</table>\n",
       "</div>"
      ],
      "text/plain": [
       "              timestamp      room_id          co2\n",
       "0   2023-02-10T10:51:00      kitchen   617.333313\n",
       "1   2023-02-10T10:51:00      bedroom   466.500000\n",
       "2   2023-02-10T10:51:00     bathroom   465.500000\n",
       "3   2023-02-10T10:51:00  living_room   685.000000\n",
       "4   2023-02-10T10:52:00      kitchen   847.000000\n",
       "5   2023-02-10T10:52:00      bedroom   679.000000\n",
       "6   2023-02-10T10:52:00     bathroom   671.000000\n",
       "7   2023-02-10T10:52:00  living_room   718.333313\n",
       "8   2023-02-10T10:53:00      kitchen  1053.000000\n",
       "9   2023-02-10T10:53:00      bedroom   511.500000\n",
       "10  2023-02-10T10:53:00     bathroom   506.500000\n",
       "11  2023-02-10T10:53:00  living_room   474.000000"
      ]
     },
     "execution_count": 9,
     "metadata": {},
     "output_type": "execute_result"
    }
   ],
   "source": [
    "df_carbonsense= df_carbonsense.withColumn(\"message_content\", F.from_json(F.col(\"value\").cast(\"string\"),carbonsense_schema ))\n",
    "df_carbonsense_minimal = df_carbonsense.select(\"message_content.*\")\n",
    "df_carbonsense_minimal.toPandas()"
   ]
  },
  {
   "cell_type": "markdown",
   "id": "68306c4d-d56b-481d-bd01-04047db936b8",
   "metadata": {},
   "source": [
    "<font color='blue' size=\"5\" >Luxmeter Data</font>"
   ]
  },
  {
   "cell_type": "code",
   "execution_count": 10,
   "id": "70141f1f-2f5a-4be6-879d-6b1fdb85b470",
   "metadata": {},
   "outputs": [
    {
     "name": "stdout",
     "output_type": "stream",
     "text": [
      "root\n",
      " |-- key: binary (nullable = true)\n",
      " |-- value: binary (nullable = true)\n",
      " |-- topic: string (nullable = true)\n",
      " |-- partition: integer (nullable = true)\n",
      " |-- offset: long (nullable = true)\n",
      " |-- timestamp: timestamp (nullable = true)\n",
      " |-- timestampType: integer (nullable = true)\n",
      "\n"
     ]
    }
   ],
   "source": [
    "df_luxmeter = spark \\\n",
    "  .read \\\n",
    "  .format(\"kafka\") \\\n",
    "  .option(\"kafka.bootstrap.servers\", \"localhost:9092\") \\\n",
    "  .option(\"subscribe\", \"luxmeter\") \\\n",
    "  .option(\"failOnDataLoss\", \"true\") \\\n",
    "  .load()\n",
    "# df.selectExpr(\"CAST(key AS STRING)\", \"CAST(value AS STRING)\").select(\"value\").toPandas()\n",
    "df_luxmeter.printSchema()"
   ]
  },
  {
   "cell_type": "code",
   "execution_count": 11,
   "id": "e3d637c6-419f-4cd0-9482-269c6c5f878c",
   "metadata": {},
   "outputs": [
    {
     "data": {
      "text/html": [
       "<div>\n",
       "<style scoped>\n",
       "    .dataframe tbody tr th:only-of-type {\n",
       "        vertical-align: middle;\n",
       "    }\n",
       "\n",
       "    .dataframe tbody tr th {\n",
       "        vertical-align: top;\n",
       "    }\n",
       "\n",
       "    .dataframe thead th {\n",
       "        text-align: right;\n",
       "    }\n",
       "</style>\n",
       "<table border=\"1\" class=\"dataframe\">\n",
       "  <thead>\n",
       "    <tr style=\"text-align: right;\">\n",
       "      <th></th>\n",
       "      <th>timestamp</th>\n",
       "      <th>light_level</th>\n",
       "      <th>room_id</th>\n",
       "    </tr>\n",
       "  </thead>\n",
       "  <tbody>\n",
       "    <tr>\n",
       "      <th>0</th>\n",
       "      <td>2023-02-10T10:52:00</td>\n",
       "      <td>433.0</td>\n",
       "      <td>kitchen</td>\n",
       "    </tr>\n",
       "    <tr>\n",
       "      <th>1</th>\n",
       "      <td>2023-02-10T10:52:00</td>\n",
       "      <td>0.0</td>\n",
       "      <td>bedroom</td>\n",
       "    </tr>\n",
       "    <tr>\n",
       "      <th>2</th>\n",
       "      <td>2023-02-10T10:52:00</td>\n",
       "      <td>14.0</td>\n",
       "      <td>bathroom</td>\n",
       "    </tr>\n",
       "    <tr>\n",
       "      <th>3</th>\n",
       "      <td>2023-02-10T10:52:00</td>\n",
       "      <td>0.0</td>\n",
       "      <td>living_room</td>\n",
       "    </tr>\n",
       "  </tbody>\n",
       "</table>\n",
       "</div>"
      ],
      "text/plain": [
       "             timestamp  light_level      room_id\n",
       "0  2023-02-10T10:52:00        433.0      kitchen\n",
       "1  2023-02-10T10:52:00          0.0      bedroom\n",
       "2  2023-02-10T10:52:00         14.0     bathroom\n",
       "3  2023-02-10T10:52:00          0.0  living_room"
      ]
     },
     "execution_count": 11,
     "metadata": {},
     "output_type": "execute_result"
    }
   ],
   "source": [
    "df_luxmeter= df_luxmeter.withColumn(\"message_content\", F.from_json(F.col(\"value\").cast(\"string\"),luxmeter_schema ))\n",
    "df_luxmeter_minimal = df_luxmeter.select(\"message_content.*\")\n",
    "df_luxmeter_minimal.toPandas()"
   ]
  },
  {
   "cell_type": "markdown",
   "id": "71382d61-a5bd-46cc-a643-09271cbfcad8",
   "metadata": {},
   "source": [
    "<font color='blue' size=\"5\" >Smart Thermo Data</font>"
   ]
  },
  {
   "cell_type": "code",
   "execution_count": 12,
   "id": "620dc52c-023e-4f60-a95a-19de542b27df",
   "metadata": {},
   "outputs": [
    {
     "name": "stdout",
     "output_type": "stream",
     "text": [
      "root\n",
      " |-- key: binary (nullable = true)\n",
      " |-- value: binary (nullable = true)\n",
      " |-- topic: string (nullable = true)\n",
      " |-- partition: integer (nullable = true)\n",
      " |-- offset: long (nullable = true)\n",
      " |-- timestamp: timestamp (nullable = true)\n",
      " |-- timestampType: integer (nullable = true)\n",
      "\n"
     ]
    }
   ],
   "source": [
    "df_smartthermo = spark \\\n",
    "  .read \\\n",
    "  .format(\"kafka\") \\\n",
    "  .option(\"kafka.bootstrap.servers\", \"localhost:9092\") \\\n",
    "  .option(\"subscribe\", \"smartthermo\") \\\n",
    "  .option(\"failOnDataLoss\", \"true\") \\\n",
    "  .load()\n",
    "# df.selectExpr(\"CAST(key AS STRING)\", \"CAST(value AS STRING)\").select(\"value\").toPandas()\n",
    "df_smartthermo.printSchema()"
   ]
  },
  {
   "cell_type": "code",
   "execution_count": 13,
   "id": "400f55df-6fde-4248-b28c-ee942ac408e4",
   "metadata": {},
   "outputs": [
    {
     "data": {
      "text/html": [
       "<div>\n",
       "<style scoped>\n",
       "    .dataframe tbody tr th:only-of-type {\n",
       "        vertical-align: middle;\n",
       "    }\n",
       "\n",
       "    .dataframe tbody tr th {\n",
       "        vertical-align: top;\n",
       "    }\n",
       "\n",
       "    .dataframe thead th {\n",
       "        text-align: right;\n",
       "    }\n",
       "</style>\n",
       "<table border=\"1\" class=\"dataframe\">\n",
       "  <thead>\n",
       "    <tr style=\"text-align: right;\">\n",
       "      <th></th>\n",
       "      <th>timestamp</th>\n",
       "      <th>room_id</th>\n",
       "      <th>temperature</th>\n",
       "    </tr>\n",
       "  </thead>\n",
       "  <tbody>\n",
       "    <tr>\n",
       "      <th>0</th>\n",
       "      <td>2023-02-10T10:50:00</td>\n",
       "      <td>kitchen</td>\n",
       "      <td>71.059998</td>\n",
       "    </tr>\n",
       "    <tr>\n",
       "      <th>1</th>\n",
       "      <td>2023-02-10T10:50:00</td>\n",
       "      <td>bedroom</td>\n",
       "      <td>69.599998</td>\n",
       "    </tr>\n",
       "    <tr>\n",
       "      <th>2</th>\n",
       "      <td>2023-02-10T10:50:00</td>\n",
       "      <td>bathroom</td>\n",
       "      <td>68.360001</td>\n",
       "    </tr>\n",
       "    <tr>\n",
       "      <th>3</th>\n",
       "      <td>2023-02-10T10:50:00</td>\n",
       "      <td>living_room</td>\n",
       "      <td>67.870003</td>\n",
       "    </tr>\n",
       "    <tr>\n",
       "      <th>4</th>\n",
       "      <td>2023-02-10T10:52:00</td>\n",
       "      <td>kitchen</td>\n",
       "      <td>71.639999</td>\n",
       "    </tr>\n",
       "    <tr>\n",
       "      <th>5</th>\n",
       "      <td>2023-02-10T10:52:00</td>\n",
       "      <td>bedroom</td>\n",
       "      <td>68.699997</td>\n",
       "    </tr>\n",
       "    <tr>\n",
       "      <th>6</th>\n",
       "      <td>2023-02-10T10:52:00</td>\n",
       "      <td>bathroom</td>\n",
       "      <td>68.989998</td>\n",
       "    </tr>\n",
       "    <tr>\n",
       "      <th>7</th>\n",
       "      <td>2023-02-10T10:52:00</td>\n",
       "      <td>living_room</td>\n",
       "      <td>68.360001</td>\n",
       "    </tr>\n",
       "    <tr>\n",
       "      <th>8</th>\n",
       "      <td>2023-02-10T10:53:00</td>\n",
       "      <td>kitchen</td>\n",
       "      <td>72.300003</td>\n",
       "    </tr>\n",
       "    <tr>\n",
       "      <th>9</th>\n",
       "      <td>2023-02-10T10:53:00</td>\n",
       "      <td>bedroom</td>\n",
       "      <td>68.900002</td>\n",
       "    </tr>\n",
       "    <tr>\n",
       "      <th>10</th>\n",
       "      <td>2023-02-10T10:53:00</td>\n",
       "      <td>bathroom</td>\n",
       "      <td>68.519997</td>\n",
       "    </tr>\n",
       "    <tr>\n",
       "      <th>11</th>\n",
       "      <td>2023-02-10T10:53:00</td>\n",
       "      <td>living_room</td>\n",
       "      <td>68.519997</td>\n",
       "    </tr>\n",
       "  </tbody>\n",
       "</table>\n",
       "</div>"
      ],
      "text/plain": [
       "              timestamp      room_id  temperature\n",
       "0   2023-02-10T10:50:00      kitchen    71.059998\n",
       "1   2023-02-10T10:50:00      bedroom    69.599998\n",
       "2   2023-02-10T10:50:00     bathroom    68.360001\n",
       "3   2023-02-10T10:50:00  living_room    67.870003\n",
       "4   2023-02-10T10:52:00      kitchen    71.639999\n",
       "5   2023-02-10T10:52:00      bedroom    68.699997\n",
       "6   2023-02-10T10:52:00     bathroom    68.989998\n",
       "7   2023-02-10T10:52:00  living_room    68.360001\n",
       "8   2023-02-10T10:53:00      kitchen    72.300003\n",
       "9   2023-02-10T10:53:00      bedroom    68.900002\n",
       "10  2023-02-10T10:53:00     bathroom    68.519997\n",
       "11  2023-02-10T10:53:00  living_room    68.519997"
      ]
     },
     "execution_count": 13,
     "metadata": {},
     "output_type": "execute_result"
    }
   ],
   "source": [
    "df_smartthermo= df_smartthermo.withColumn(\"message_content\", F.from_json(F.col(\"value\").cast(\"string\"),smartthermo_schema ))\n",
    "df_smartthermo_minimal = df_smartthermo.select(\"message_content.*\")\n",
    "df_smartthermo_minimal.toPandas()"
   ]
  },
  {
   "cell_type": "markdown",
   "id": "467eb1b4-be35-4f39-8e28-00fe8c475d0a",
   "metadata": {},
   "source": [
    "<font color='blue' size=\"5\" >Merge Data on \"timestamp\" and \"room_id\" columns</font>"
   ]
  },
  {
   "cell_type": "code",
   "execution_count": 14,
   "id": "86666373-936e-42b6-bcd5-34aa9de41139",
   "metadata": {},
   "outputs": [],
   "source": [
    "merged_df = df_smartthermo_minimal.join(df_luxmeter_minimal, on=[\"timestamp\",\"room_id\"], how=\"inner\").join(df_carbonsense_minimal, on=[\"timestamp\",\"room_id\"], how=\"inner\").join(df_moisturemate_minimal, on=[\"timestamp\",\"room_id\"], how=\"inner\")"
   ]
  },
  {
   "cell_type": "code",
   "execution_count": 15,
   "id": "21ca265a-3da8-417a-93e8-c062ff7a52bc",
   "metadata": {},
   "outputs": [
    {
     "data": {
      "text/html": [
       "<div>\n",
       "<style scoped>\n",
       "    .dataframe tbody tr th:only-of-type {\n",
       "        vertical-align: middle;\n",
       "    }\n",
       "\n",
       "    .dataframe tbody tr th {\n",
       "        vertical-align: top;\n",
       "    }\n",
       "\n",
       "    .dataframe thead th {\n",
       "        text-align: right;\n",
       "    }\n",
       "</style>\n",
       "<table border=\"1\" class=\"dataframe\">\n",
       "  <thead>\n",
       "    <tr style=\"text-align: right;\">\n",
       "      <th></th>\n",
       "      <th>timestamp</th>\n",
       "      <th>room_id</th>\n",
       "      <th>temperature</th>\n",
       "      <th>light_level</th>\n",
       "      <th>co2</th>\n",
       "      <th>humidity</th>\n",
       "      <th>humidity_ratio</th>\n",
       "    </tr>\n",
       "  </thead>\n",
       "  <tbody>\n",
       "    <tr>\n",
       "      <th>0</th>\n",
       "      <td>2023-02-10T10:52:00</td>\n",
       "      <td>bathroom</td>\n",
       "      <td>68.989998</td>\n",
       "      <td>14.0</td>\n",
       "      <td>671.000000</td>\n",
       "      <td>32.500000</td>\n",
       "      <td>0.004865</td>\n",
       "    </tr>\n",
       "    <tr>\n",
       "      <th>1</th>\n",
       "      <td>2023-02-10T10:52:00</td>\n",
       "      <td>bedroom</td>\n",
       "      <td>68.699997</td>\n",
       "      <td>0.0</td>\n",
       "      <td>679.000000</td>\n",
       "      <td>32.290001</td>\n",
       "      <td>0.004785</td>\n",
       "    </tr>\n",
       "    <tr>\n",
       "      <th>2</th>\n",
       "      <td>2023-02-10T10:52:00</td>\n",
       "      <td>kitchen</td>\n",
       "      <td>71.639999</td>\n",
       "      <td>433.0</td>\n",
       "      <td>847.000000</td>\n",
       "      <td>23.917500</td>\n",
       "      <td>0.003913</td>\n",
       "    </tr>\n",
       "    <tr>\n",
       "      <th>3</th>\n",
       "      <td>2023-02-10T10:52:00</td>\n",
       "      <td>living_room</td>\n",
       "      <td>68.360001</td>\n",
       "      <td>0.0</td>\n",
       "      <td>718.333313</td>\n",
       "      <td>30.389999</td>\n",
       "      <td>0.004449</td>\n",
       "    </tr>\n",
       "    <tr>\n",
       "      <th>4</th>\n",
       "      <td>2023-02-10T10:53:00</td>\n",
       "      <td>bathroom</td>\n",
       "      <td>68.519997</td>\n",
       "      <td>0.0</td>\n",
       "      <td>506.500000</td>\n",
       "      <td>31.200001</td>\n",
       "      <td>0.004594</td>\n",
       "    </tr>\n",
       "    <tr>\n",
       "      <th>5</th>\n",
       "      <td>2023-02-10T10:53:00</td>\n",
       "      <td>bedroom</td>\n",
       "      <td>68.900002</td>\n",
       "      <td>0.0</td>\n",
       "      <td>511.500000</td>\n",
       "      <td>31.500000</td>\n",
       "      <td>0.004699</td>\n",
       "    </tr>\n",
       "    <tr>\n",
       "      <th>6</th>\n",
       "      <td>2023-02-10T10:53:00</td>\n",
       "      <td>kitchen</td>\n",
       "      <td>72.300003</td>\n",
       "      <td>489.0</td>\n",
       "      <td>1053.000000</td>\n",
       "      <td>28.200001</td>\n",
       "      <td>0.004724</td>\n",
       "    </tr>\n",
       "    <tr>\n",
       "      <th>7</th>\n",
       "      <td>2023-02-10T10:53:00</td>\n",
       "      <td>living_room</td>\n",
       "      <td>68.519997</td>\n",
       "      <td>0.0</td>\n",
       "      <td>474.000000</td>\n",
       "      <td>32.900002</td>\n",
       "      <td>0.004846</td>\n",
       "    </tr>\n",
       "  </tbody>\n",
       "</table>\n",
       "</div>"
      ],
      "text/plain": [
       "             timestamp      room_id  temperature  light_level          co2  \\\n",
       "0  2023-02-10T10:52:00     bathroom    68.989998         14.0   671.000000   \n",
       "1  2023-02-10T10:52:00      bedroom    68.699997          0.0   679.000000   \n",
       "2  2023-02-10T10:52:00      kitchen    71.639999        433.0   847.000000   \n",
       "3  2023-02-10T10:52:00  living_room    68.360001          0.0   718.333313   \n",
       "4  2023-02-10T10:53:00     bathroom    68.519997          0.0   506.500000   \n",
       "5  2023-02-10T10:53:00      bedroom    68.900002          0.0   511.500000   \n",
       "6  2023-02-10T10:53:00      kitchen    72.300003        489.0  1053.000000   \n",
       "7  2023-02-10T10:53:00  living_room    68.519997          0.0   474.000000   \n",
       "\n",
       "    humidity  humidity_ratio  \n",
       "0  32.500000        0.004865  \n",
       "1  32.290001        0.004785  \n",
       "2  23.917500        0.003913  \n",
       "3  30.389999        0.004449  \n",
       "4  31.200001        0.004594  \n",
       "5  31.500000        0.004699  \n",
       "6  28.200001        0.004724  \n",
       "7  32.900002        0.004846  "
      ]
     },
     "execution_count": 15,
     "metadata": {},
     "output_type": "execute_result"
    }
   ],
   "source": [
    "merged_df.toPandas()"
   ]
  },
  {
   "cell_type": "markdown",
   "id": "ff3279c3-402e-4546-9e07-40f11632eb2b",
   "metadata": {},
   "source": [
    "<font color='blue' size=\"5\" >Checking data type of timestamp</font>"
   ]
  },
  {
   "cell_type": "code",
   "execution_count": 16,
   "id": "27918d9d-dba6-4e3b-89fb-11299173bf08",
   "metadata": {},
   "outputs": [
    {
     "name": "stdout",
     "output_type": "stream",
     "text": [
      "root\n",
      " |-- timestamp: string (nullable = true)\n",
      " |-- room_id: string (nullable = true)\n",
      " |-- temperature: float (nullable = true)\n",
      " |-- light_level: float (nullable = true)\n",
      " |-- co2: float (nullable = true)\n",
      " |-- humidity: float (nullable = true)\n",
      " |-- humidity_ratio: float (nullable = true)\n",
      "\n"
     ]
    }
   ],
   "source": [
    "merged_df.printSchema()"
   ]
  },
  {
   "cell_type": "markdown",
   "id": "b85d51bc-e6f5-434a-ac18-e52b5f97e6fa",
   "metadata": {},
   "source": [
    "<font color='blue' size=\"5\" >Converting 'timestamp: string' to 'timestamp: timestamp', so that we can sort time</font>"
   ]
  },
  {
   "cell_type": "code",
   "execution_count": 17,
   "id": "320b649c-583c-4cac-b24f-dd9467798c1b",
   "metadata": {},
   "outputs": [],
   "source": [
    "merged_df = merged_df.withColumn(\"timestamp\", F.to_timestamp(merged_df[\"timestamp\"], \"yyyy-MM-dd'T'HH:mm:ss\"))"
   ]
  },
  {
   "cell_type": "code",
   "execution_count": 18,
   "id": "56d1cab0-339f-414e-878a-69ff6ba269f2",
   "metadata": {},
   "outputs": [
    {
     "name": "stdout",
     "output_type": "stream",
     "text": [
      "root\n",
      " |-- timestamp: timestamp (nullable = true)\n",
      " |-- room_id: string (nullable = true)\n",
      " |-- temperature: float (nullable = true)\n",
      " |-- light_level: float (nullable = true)\n",
      " |-- co2: float (nullable = true)\n",
      " |-- humidity: float (nullable = true)\n",
      " |-- humidity_ratio: float (nullable = true)\n",
      "\n"
     ]
    }
   ],
   "source": [
    "merged_df.printSchema()"
   ]
  },
  {
   "cell_type": "markdown",
   "id": "1aeac67d-cbea-4f50-a487-94a7484e8a9a",
   "metadata": {},
   "source": [
    "<font color='blue' size=\"5\" >Sorting dataframe based on timestamp</font>"
   ]
  },
  {
   "cell_type": "code",
   "execution_count": 19,
   "id": "c2d55bc3-d593-41f2-adc4-db2544d92eaf",
   "metadata": {},
   "outputs": [],
   "source": [
    "sorted_df = merged_df.sort(\"timestamp\", ascending=[True])"
   ]
  },
  {
   "cell_type": "code",
   "execution_count": 20,
   "id": "488d3a5b-2ff9-4984-b2f0-4343a0eba3d1",
   "metadata": {},
   "outputs": [
    {
     "name": "stderr",
     "output_type": "stream",
     "text": [
      "/usr/local/spark/python/pyspark/sql/pandas/conversion.py:248: FutureWarning: Passing unit-less datetime64 dtype to .astype is deprecated and will raise in a future version. Pass 'datetime64[ns]' instead\n",
      "  series = series.astype(t, copy=False)\n"
     ]
    },
    {
     "data": {
      "text/html": [
       "<div>\n",
       "<style scoped>\n",
       "    .dataframe tbody tr th:only-of-type {\n",
       "        vertical-align: middle;\n",
       "    }\n",
       "\n",
       "    .dataframe tbody tr th {\n",
       "        vertical-align: top;\n",
       "    }\n",
       "\n",
       "    .dataframe thead th {\n",
       "        text-align: right;\n",
       "    }\n",
       "</style>\n",
       "<table border=\"1\" class=\"dataframe\">\n",
       "  <thead>\n",
       "    <tr style=\"text-align: right;\">\n",
       "      <th></th>\n",
       "      <th>timestamp</th>\n",
       "      <th>room_id</th>\n",
       "      <th>temperature</th>\n",
       "      <th>light_level</th>\n",
       "      <th>co2</th>\n",
       "      <th>humidity</th>\n",
       "      <th>humidity_ratio</th>\n",
       "    </tr>\n",
       "  </thead>\n",
       "  <tbody>\n",
       "    <tr>\n",
       "      <th>0</th>\n",
       "      <td>2023-02-10 10:52:00</td>\n",
       "      <td>bathroom</td>\n",
       "      <td>68.989998</td>\n",
       "      <td>14.0</td>\n",
       "      <td>671.000000</td>\n",
       "      <td>32.500000</td>\n",
       "      <td>0.004865</td>\n",
       "    </tr>\n",
       "    <tr>\n",
       "      <th>1</th>\n",
       "      <td>2023-02-10 10:52:00</td>\n",
       "      <td>bedroom</td>\n",
       "      <td>68.699997</td>\n",
       "      <td>0.0</td>\n",
       "      <td>679.000000</td>\n",
       "      <td>32.290001</td>\n",
       "      <td>0.004785</td>\n",
       "    </tr>\n",
       "    <tr>\n",
       "      <th>2</th>\n",
       "      <td>2023-02-10 10:52:00</td>\n",
       "      <td>kitchen</td>\n",
       "      <td>71.639999</td>\n",
       "      <td>433.0</td>\n",
       "      <td>847.000000</td>\n",
       "      <td>23.917500</td>\n",
       "      <td>0.003913</td>\n",
       "    </tr>\n",
       "    <tr>\n",
       "      <th>3</th>\n",
       "      <td>2023-02-10 10:52:00</td>\n",
       "      <td>living_room</td>\n",
       "      <td>68.360001</td>\n",
       "      <td>0.0</td>\n",
       "      <td>718.333313</td>\n",
       "      <td>30.389999</td>\n",
       "      <td>0.004449</td>\n",
       "    </tr>\n",
       "    <tr>\n",
       "      <th>4</th>\n",
       "      <td>2023-02-10 10:53:00</td>\n",
       "      <td>bathroom</td>\n",
       "      <td>68.519997</td>\n",
       "      <td>0.0</td>\n",
       "      <td>506.500000</td>\n",
       "      <td>31.200001</td>\n",
       "      <td>0.004594</td>\n",
       "    </tr>\n",
       "    <tr>\n",
       "      <th>5</th>\n",
       "      <td>2023-02-10 10:53:00</td>\n",
       "      <td>bedroom</td>\n",
       "      <td>68.900002</td>\n",
       "      <td>0.0</td>\n",
       "      <td>511.500000</td>\n",
       "      <td>31.500000</td>\n",
       "      <td>0.004699</td>\n",
       "    </tr>\n",
       "    <tr>\n",
       "      <th>6</th>\n",
       "      <td>2023-02-10 10:53:00</td>\n",
       "      <td>kitchen</td>\n",
       "      <td>72.300003</td>\n",
       "      <td>489.0</td>\n",
       "      <td>1053.000000</td>\n",
       "      <td>28.200001</td>\n",
       "      <td>0.004724</td>\n",
       "    </tr>\n",
       "    <tr>\n",
       "      <th>7</th>\n",
       "      <td>2023-02-10 10:53:00</td>\n",
       "      <td>living_room</td>\n",
       "      <td>68.519997</td>\n",
       "      <td>0.0</td>\n",
       "      <td>474.000000</td>\n",
       "      <td>32.900002</td>\n",
       "      <td>0.004846</td>\n",
       "    </tr>\n",
       "  </tbody>\n",
       "</table>\n",
       "</div>"
      ],
      "text/plain": [
       "            timestamp      room_id  temperature  light_level          co2  \\\n",
       "0 2023-02-10 10:52:00     bathroom    68.989998         14.0   671.000000   \n",
       "1 2023-02-10 10:52:00      bedroom    68.699997          0.0   679.000000   \n",
       "2 2023-02-10 10:52:00      kitchen    71.639999        433.0   847.000000   \n",
       "3 2023-02-10 10:52:00  living_room    68.360001          0.0   718.333313   \n",
       "4 2023-02-10 10:53:00     bathroom    68.519997          0.0   506.500000   \n",
       "5 2023-02-10 10:53:00      bedroom    68.900002          0.0   511.500000   \n",
       "6 2023-02-10 10:53:00      kitchen    72.300003        489.0  1053.000000   \n",
       "7 2023-02-10 10:53:00  living_room    68.519997          0.0   474.000000   \n",
       "\n",
       "    humidity  humidity_ratio  \n",
       "0  32.500000        0.004865  \n",
       "1  32.290001        0.004785  \n",
       "2  23.917500        0.003913  \n",
       "3  30.389999        0.004449  \n",
       "4  31.200001        0.004594  \n",
       "5  31.500000        0.004699  \n",
       "6  28.200001        0.004724  \n",
       "7  32.900002        0.004846  "
      ]
     },
     "execution_count": 20,
     "metadata": {},
     "output_type": "execute_result"
    }
   ],
   "source": [
    "sorted_df.toPandas().head(8)"
   ]
  }
 ],
 "metadata": {
  "kernelspec": {
   "display_name": "Python 3 (ipykernel)",
   "language": "python",
   "name": "python3"
  },
  "language_info": {
   "codemirror_mode": {
    "name": "ipython",
    "version": 3
   },
   "file_extension": ".py",
   "mimetype": "text/x-python",
   "name": "python",
   "nbconvert_exporter": "python",
   "pygments_lexer": "ipython3",
   "version": "3.10.8"
  },
  "vscode": {
   "interpreter": {
    "hash": "916dbcbb3f70747c44a77c7bcd40155683ae19c65e1c03b4aa3499c5328201f1"
   }
  }
 },
 "nbformat": 4,
 "nbformat_minor": 5
}
